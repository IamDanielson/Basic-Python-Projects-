{
 "cells": [
  {
   "cell_type": "code",
   "execution_count": 1,
   "metadata": {},
   "outputs": [],
   "source": [
    "from tkinter import *\n",
    "root = Tk()\n",
    "mainloop()"
   ]
  },
  {
   "cell_type": "code",
   "execution_count": 5,
   "metadata": {},
   "outputs": [],
   "source": [
    "from tkinter import *\n",
    "def calculate():\n",
    "    temp = int(entry.get())\n",
    "    temp = 9/5*temp+32\n",
    "    output_label.configure(text = 'Converted: {:.if}'.format(temp))\n",
    "    entrry.delete(0,END)\n",
    "root = Tk()\n",
    "message_label = Label(text= \"Enter a temperature\",font=('Verdana',16))\n",
    "output_label = Label(font=('Verdana',16))\n",
    "entry = Entry(font=('Verdana', 16), width=4)\n",
    "calc_button = Button(text='ok', font=('Verdana', 16),command=calculate)\n",
    "message_label.grid(row=0, column=0)\n",
    "entry.grid(row=1, column=0)\n",
    "calc_button.grid(row=0, column=2)\n",
    "output_label.grid(row=1, column=0, columnspan=3)\n",
    "mainloop()"
   ]
  },
  {
   "cell_type": "code",
   "execution_count": null,
   "metadata": {},
   "outputs": [],
   "source": []
  }
 ],
 "metadata": {
  "kernelspec": {
   "display_name": "Python 3",
   "language": "python",
   "name": "python3"
  },
  "language_info": {
   "codemirror_mode": {
    "name": "ipython",
    "version": 3
   },
   "file_extension": ".py",
   "mimetype": "text/x-python",
   "name": "python",
   "nbconvert_exporter": "python",
   "pygments_lexer": "ipython3",
   "version": "3.7.6"
  }
 },
 "nbformat": 4,
 "nbformat_minor": 4
}
