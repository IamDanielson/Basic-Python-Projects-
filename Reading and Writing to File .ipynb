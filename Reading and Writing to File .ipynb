{
 "cells": [
  {
   "cell_type": "code",
   "execution_count": 23,
   "metadata": {},
   "outputs": [],
   "source": [
    "Q = eval(open(\"C:/Users/Danielson/Desktop/python Class/note.txt\").read())\n",
    "f = open('C:/Users/Danielson/Desktop/python Class/notepad.txt','w')\n",
    "for lines in Q:\n",
    "    z = 9/5 * lines + 32\n",
    "    print('your values are: ', z, file = f)\n"
   ]
  },
  {
   "cell_type": "code",
   "execution_count": 30,
   "metadata": {},
   "outputs": [
    {
     "name": "stdout",
     "output_type": "stream",
     "text": [
      "The sum is: 25\n"
     ]
    }
   ],
   "source": [
    "h = open(\"C:/Users/Danielson/Desktop/python Class/note.txt\",'r')\n",
    "content = h.readlines()\n",
    "a = 0\n",
    "for line in content:\n",
    "    for i in line:\n",
    "        if i.isdigit() == True:\n",
    "            a += int(i)\n",
    "print('The sum is:',a,file = f)"
   ]
  },
  {
   "cell_type": "code",
   "execution_count": null,
   "metadata": {},
   "outputs": [],
   "source": []
  }
 ],
 "metadata": {
  "kernelspec": {
   "display_name": "Python 3",
   "language": "python",
   "name": "python3"
  },
  "language_info": {
   "codemirror_mode": {
    "name": "ipython",
    "version": 3
   },
   "file_extension": ".py",
   "mimetype": "text/x-python",
   "name": "python",
   "nbconvert_exporter": "python",
   "pygments_lexer": "ipython3",
   "version": "3.7.6"
  }
 },
 "nbformat": 4,
 "nbformat_minor": 4
}
