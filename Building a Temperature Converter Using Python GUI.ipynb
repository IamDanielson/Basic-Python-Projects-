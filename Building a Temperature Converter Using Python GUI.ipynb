{
 "cells": [
  {
   "cell_type": "code",
   "execution_count": 9,
   "metadata": {},
   "outputs": [],
   "source": [
    "from tkinter import *\n",
    "root = Tk()\n",
    "mainloop()"
   ]
  },
  {
   "cell_type": "code",
   "execution_count": null,
   "metadata": {},
   "outputs": [],
   "source": [
    "from tkinter import *\n",
    "def calculate():\n",
    "    temp = int(entry.get())\n",
    "    temp = 9/5*temp+32\n",
    "    output_label.configure(text='Converted: {:.1f}'.format(temp))\n",
    "    entry.delete(0,END)\n",
    "root = Tk()\n",
    "message_label = Label(text= \"Enter a temperature:\",font=('Verdana',16),bg=\"green\",fg=\"orange\")\n",
    "message_label1 = Label(text= \"Enter FirstName:\",font=('Verdana',16),bg=\"green\",fg=\"orange\")\n",
    "message_label2 = Label(text= \"Enter Your Age:\",font=('Verdana',16),bg=\"green\",fg=\"orange\")\n",
    "output_label = Label(font=('Verdana',16))\n",
    "output_label1 = Label(font=('Verdana',16))\n",
    "output_label2 = Label(font=('Verdana',16))\n",
    "entry = Entry(font=('Verdana', 16), width=10)\n",
    "entry1 = Entry(font=('Verdana', 16), width=10)\n",
    "entry2 = Entry(font=('Verdana', 16), width=10)\n",
    "calc_button = Button(text='ok', font=('Verdana', 16),command=calculate)\n",
    "message_label.grid(row=0, column=0)\n",
    "message_label1.grid(row=1, column=0)\n",
    "message_label2.grid(row=2, column=0)\n",
    "entry.grid(row=0, column=1)\n",
    "entry1.grid(row=1, column=1)\n",
    "entry2.grid(row=2, column=1)\n",
    "calc_button.grid(row=5, column=2)\n",
    "output_label.grid(row=6, column=0, columnspan=3)\n",
    "mainloop()\n"
   ]
  },
  {
   "cell_type": "code",
   "execution_count": 12,
   "metadata": {},
   "outputs": [],
   "source": []
  }
 ],
 "metadata": {
  "kernelspec": {
   "display_name": "Python 3",
   "language": "python",
   "name": "python3"
  },
  "language_info": {
   "codemirror_mode": {
    "name": "ipython",
    "version": 3
   },
   "file_extension": ".py",
   "mimetype": "text/x-python",
   "name": "python",
   "nbconvert_exporter": "python",
   "pygments_lexer": "ipython3",
   "version": "3.7.6"
  }
 },
 "nbformat": 4,
 "nbformat_minor": 4
}
