{
 "cells": [
  {
   "cell_type": "code",
   "execution_count": 1,
   "metadata": {},
   "outputs": [
    {
     "name": "stdout",
     "output_type": "stream",
     "text": [
      "Enter your value :70\n"
     ]
    }
   ],
   "source": [
    "#how to write into a file from python\n",
    "f = open('C:/Users/Danielson/Desktop/python Class/notepad.txt','w')\n",
    "temp =int(input('Enter your value :'))\n",
    "z=9/5 * temp + 32\n",
    "print('Your Temperature in arenheit is :',z, file = f)\n",
    "f.close()"
   ]
  },
  {
   "cell_type": "code",
   "execution_count": 16,
   "metadata": {},
   "outputs": [
    {
     "data": {
      "text/plain": [
       "158.0"
      ]
     },
     "execution_count": 16,
     "metadata": {},
     "output_type": "execute_result"
    }
   ],
   "source": [
    "#how to read text from a file ad work with it\n",
    "Q = eval(open(\"C:/Users/Danielson/Desktop/python Class/note.txt\").read())\n",
    "z = 9/5 * Q + 32\n",
    "z"
   ]
  },
  {
   "cell_type": "code",
   "execution_count": 21,
   "metadata": {},
   "outputs": [],
   "source": [
    "#how to read from a file work with it and write back into a text file \n",
    "Q = eval(open(\"C:/Users/Danielson/Desktop/python Class/note.txt\").read())\n",
    "f = open('C:/Users/Danielson/Desktop/python Class/notepad.txt','w')\n",
    "z = 9/5 * Q + 32\n",
    "print('Your value is :',z,Q, file = f)"
   ]
  },
  {
   "cell_type": "code",
   "execution_count": null,
   "metadata": {},
   "outputs": [],
   "source": []
  }
 ],
 "metadata": {
  "kernelspec": {
   "display_name": "Python 3",
   "language": "python",
   "name": "python3"
  },
  "language_info": {
   "codemirror_mode": {
    "name": "ipython",
    "version": 3
   },
   "file_extension": ".py",
   "mimetype": "text/x-python",
   "name": "python",
   "nbconvert_exporter": "python",
   "pygments_lexer": "ipython3",
   "version": "3.7.6"
  }
 },
 "nbformat": 4,
 "nbformat_minor": 4
}
