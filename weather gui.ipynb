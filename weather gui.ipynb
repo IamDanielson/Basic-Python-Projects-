{
 "cells": [
  {
   "cell_type": "code",
   "execution_count": 4,
   "metadata": {},
   "outputs": [
    {
     "ename": "SyntaxError",
     "evalue": "invalid syntax (<ipython-input-4-334aaa164514>, line 21)",
     "output_type": "error",
     "traceback": [
      "\u001b[1;36m  File \u001b[1;32m\"<ipython-input-4-334aaa164514>\"\u001b[1;36m, line \u001b[1;32m21\u001b[0m\n\u001b[1;33m    return final str\u001b[0m\n\u001b[1;37m                   ^\u001b[0m\n\u001b[1;31mSyntaxError\u001b[0m\u001b[1;31m:\u001b[0m invalid syntax\n"
     ]
    }
   ],
   "source": [
    "import tkinter as tk \n",
    "import requests\n",
    "root = Tk()\n",
    "\n",
    "HEIGHT = 700\n",
    "WIDTH = 800\n",
    "\n",
    "def tes_function(entry):\n",
    "    print('This is the entry:',entry)\n",
    "    \n",
    "    \n",
    "def format_response(weather):\n",
    "    try:\n",
    "        name = weather['name']\n",
    "        desc = weather['weather'][0]['description']\n",
    "        temp = weather['main']['temp']\n",
    "    \n",
    "        final_str = 'city: %s \\nConditions: %s \\nTemperaturn(f): %s' %(name,desc, temp)\n",
    "    except:\n",
    "        final_str = 'There was a problem retrieving that information'\n",
    "    return final_str \n",
    "    \n",
    "    \n",
    "def get_weather(city):\n",
    "    weather_key = ''\n",
    "    url = ''\n",
    "    params = {'APPID': WEATHER_KEY, 'q': city, 'units': 'imperial'}\n",
    "    response = request.get(url,params=params)\n",
    "    weather = response.json()\n",
    "    \n",
    "    \n",
    "   \n",
    "root = tk.Tk()\n",
    "\n",
    "canvas = tk.Canvas(root, height=HEIGHT,width=WIDTH)\n",
    "canvas.pack()\n",
    "\n",
    "background_image = tk.PhotoImage(file='') \n",
    "background_label = tk.Label(root, image = background_image)\n",
    "background_label.place(relwidth=1, relheight=1)\n",
    "\n",
    "frame = tk.Frame(root, bg='#80c1ff', bd=5)\n",
    "frame.place(relx=0.5, rely=0.1,relwidth=0.75, relheight=0.1,anchor='n')\n",
    "\n",
    "entry = tk.Entry(frame,font=40)\n",
    "entry.place(relwidth=0.65, relheight=1)\n",
    "\n",
    "button = tk.Entry(frame, font=40)\n",
    "button.place(relx=0.7, relheight=1, relwidth=0.3)\n",
    "\n",
    "lower_frame = tk.Frame(root, bg='#80c1ff', bd=10)\n",
    "lower_frame.place(relx=0.5, rely=0.25, relwidth=0.75, relheight=0.6, anchor= 'n')\n",
    "\n",
    "label = tk.Label(lower_frame, font=('courter', 18), anchor = \"Northwest\")\n",
    "label.place(relwidth=1, relheight=1)\n",
    "\n",
    "root.mainloop()"
   ]
  },
  {
   "cell_type": "code",
   "execution_count": null,
   "metadata": {},
   "outputs": [],
   "source": []
  },
  {
   "cell_type": "code",
   "execution_count": 2,
   "metadata": {},
   "outputs": [],
   "source": []
  },
  {
   "cell_type": "code",
   "execution_count": null,
   "metadata": {},
   "outputs": [],
   "source": []
  },
  {
   "cell_type": "code",
   "execution_count": null,
   "metadata": {},
   "outputs": [],
   "source": []
  }
 ],
 "metadata": {
  "kernelspec": {
   "display_name": "Python 3",
   "language": "python",
   "name": "python3"
  },
  "language_info": {
   "codemirror_mode": {
    "name": "ipython",
    "version": 3
   },
   "file_extension": ".py",
   "mimetype": "text/x-python",
   "name": "python",
   "nbconvert_exporter": "python",
   "pygments_lexer": "ipython3",
   "version": "3.7.6"
  }
 },
 "nbformat": 4,
 "nbformat_minor": 4
}
